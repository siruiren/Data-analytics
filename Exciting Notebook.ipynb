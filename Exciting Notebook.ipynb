{
 "cells": [
  {
   "cell_type": "markdown",
   "metadata": {},
   "source": [
    "# New paragraph\n",
    "\n",
    "This exciting notebook is inspired by a notebook from 'Learning IPython for Interactive Computing and Data Visualization.  Second Edition.' by Cyrille Rossant.  Packt Publishing.  \n",
    "\n",
    "Horizontal Rule: \n",
    "___\n",
    "\n",
    "This is *rich* **text** with [links](http://ipython.org).\n",
    "\n",
    "Code with syntax highlighting:\n",
    "\n",
    "```python\n",
    "# use three backquotes (backticks)\n",
    "print(\"Hello world\")\n",
    "```\n",
    "and images:\n",
    "\n",
    "\n",
    "![This is an image](http://ipython.org/_static/IPy_header.png)  \n",
    "  \n",
    "\n",
    "$$\\hat{f}(\\xi) = \\int_{-\\infty}^{+\\infty} f(x)\\, \\mathrm{e}^{-i \\xi x} dx$$"
   ]
  },
  {
   "cell_type": "markdown",
   "metadata": {},
   "source": [
    "**Markdown** is a lightweight markup language with plain text formatting syntax. \n",
    "  \n",
    "  \n",
    "[Wiki](https://en.wikipedia.org/wiki/Markdown)  \n",
    "[Original Specification](https://daringfireball.net/projects/markdown/syntax#code)    \n",
    "[Github Tutorial](https://help.github.com/articles/getting-started-with-writing-and-formatting-on-github/)    \n",
    "[Commonmark Tutorials](http://commonmark.org/help/)  \n",
    "[LaTeX Wiki](https://en.wikipedia.org/wiki/LaTeX)"
   ]
  },
  {
   "cell_type": "code",
   "execution_count": 4,
   "metadata": {},
   "outputs": [],
   "source": [
    "class HelloWorld:\n",
    "    def __init__(self):\n",
    "        print(\"Object created\")"
   ]
  },
  {
   "cell_type": "code",
   "execution_count": 5,
   "metadata": {},
   "outputs": [
    {
     "name": "stdout",
     "output_type": "stream",
     "text": [
      "Object created\n"
     ]
    }
   ],
   "source": [
    "a = HelloWorld()"
   ]
  },
  {
   "cell_type": "code",
   "execution_count": 6,
   "metadata": {
    "collapsed": true
   },
   "outputs": [],
   "source": [
    "class MySecondClass(HelloWorld):\n",
    "    def __init__(self):\n",
    "        HelloWorld.__init__(self)\n",
    "        print(\"Second object created\")"
   ]
  },
  {
   "cell_type": "code",
   "execution_count": 7,
   "metadata": {},
   "outputs": [
    {
     "name": "stdout",
     "output_type": "stream",
     "text": [
      "Object created\n",
      "Second object created\n"
     ]
    }
   ],
   "source": [
    "b = MySecondClass()"
   ]
  },
  {
   "cell_type": "code",
   "execution_count": 8,
   "metadata": {},
   "outputs": [
    {
     "data": {
      "text/plain": [
       "[1, 2, 3]"
      ]
     },
     "execution_count": 8,
     "metadata": {},
     "output_type": "execute_result"
    }
   ],
   "source": [
    "L = [1, 2, 3]\n",
    "L"
   ]
  },
  {
   "cell_type": "code",
   "execution_count": 9,
   "metadata": {
    "collapsed": true
   },
   "outputs": [],
   "source": [
    "L.append(4)"
   ]
  },
  {
   "cell_type": "code",
   "execution_count": 10,
   "metadata": {},
   "outputs": [
    {
     "data": {
      "text/plain": [
       "[1, 2, 3, 4]"
      ]
     },
     "execution_count": 10,
     "metadata": {},
     "output_type": "execute_result"
    }
   ],
   "source": [
    "L"
   ]
  },
  {
   "cell_type": "code",
   "execution_count": null,
   "metadata": {
    "collapsed": true
   },
   "outputs": [],
   "source": []
  }
 ],
 "metadata": {
  "anaconda-cloud": {},
  "kernelspec": {
   "display_name": "Python 3",
   "language": "python",
   "name": "python3"
  },
  "language_info": {
   "codemirror_mode": {
    "name": "ipython",
    "version": 3
   },
   "file_extension": ".py",
   "mimetype": "text/x-python",
   "name": "python",
   "nbconvert_exporter": "python",
   "pygments_lexer": "ipython3",
   "version": "3.6.2"
  }
 },
 "nbformat": 4,
 "nbformat_minor": 1
}
